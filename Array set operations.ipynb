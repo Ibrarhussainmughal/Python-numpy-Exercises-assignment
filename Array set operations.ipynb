{
 "cells": [
  {
   "cell_type": "markdown",
   "metadata": {},
   "source": [
    "# unique(x) "
   ]
  },
  {
   "cell_type": "code",
   "execution_count": null,
   "metadata": {},
   "outputs": [],
   "source": [
    "compute the sorted, unique elements in x"
   ]
  },
  {
   "cell_type": "code",
   "execution_count": 27,
   "metadata": {},
   "outputs": [],
   "source": [
    "import numpy as np\n"
   ]
  },
  {
   "cell_type": "code",
   "execution_count": 28,
   "metadata": {},
   "outputs": [
    {
     "data": {
      "text/plain": [
       "array([6, 8, 4, 8, 9, 7, 1, 2, 6, 3, 8, 8, 5, 1, 6, 2, 2, 1, 1, 9])"
      ]
     },
     "execution_count": 28,
     "metadata": {},
     "output_type": "execute_result"
    }
   ],
   "source": [
    "a = np.random.randint(1, 10, size=20) # length = 20 elements from 1 to 9.\n",
    "a"
   ]
  },
  {
   "cell_type": "code",
   "execution_count": 29,
   "metadata": {},
   "outputs": [
    {
     "data": {
      "text/plain": [
       "array([1, 2, 3, 4, 5, 6, 7, 8, 9])"
      ]
     },
     "execution_count": 29,
     "metadata": {},
     "output_type": "execute_result"
    }
   ],
   "source": [
    "np.unique(a) # for practical example in one Aplication(account,i.e like facebook or finincial account transaction)  how many users login into account in per day. "
   ]
  },
  {
   "cell_type": "markdown",
   "metadata": {},
   "source": [
    "# in1d(x, y)\n",
    " "
   ]
  },
  {
   "cell_type": "code",
   "execution_count": null,
   "metadata": {},
   "outputs": [],
   "source": [
    "# compute a boolean array indicating whether each element of x id contained in y"
   ]
  },
  {
   "cell_type": "code",
   "execution_count": 23,
   "metadata": {},
   "outputs": [
    {
     "name": "stdout",
     "output_type": "stream",
     "text": [
      "[5 6 6 6 2 6 6 6 7 4 6 9 1 2 6 3 3 9 8 8]\n",
      "[5 4 7 7 8]\n"
     ]
    },
    {
     "data": {
      "text/plain": [
       "[True, True, True, True, True]"
      ]
     },
     "execution_count": 23,
     "metadata": {},
     "output_type": "execute_result"
    }
   ],
   "source": [
    "a = np.random.randint(1, 10, size=20) # for this arrays practical example is that there are 20 accounts in banks but we want only 05 account will be check with ID from these 20 accounts.then its results in true and false statements.\n",
    "b = np.random.randint(1, 10, size=5)                   \n",
    "print(a,b, sep='\\n')\n",
    "[True if x in a else False for x in b]"
   ]
  },
  {
   "cell_type": "code",
   "execution_count": 25,
   "metadata": {},
   "outputs": [
    {
     "name": "stdout",
     "output_type": "stream",
     "text": [
      "[8 5 3 9 1 5 9 7 2 4 7 1 8 6 3 2 3 3 1 5]\n",
      "[9 1 6 5 9]\n"
     ]
    },
    {
     "data": {
      "text/plain": [
       "array([ True,  True,  True,  True,  True])"
      ]
     },
     "execution_count": 25,
     "metadata": {},
     "output_type": "execute_result"
    }
   ],
   "source": [
    "a = np.random.randint(1, 10, size=20) # now another example we want these 05 users data then its return the data with true and false statements.\n",
    "b = np.random.randint(1, 10, size=5)                   \n",
    "print(a,b, sep='\\n')\n",
    "\n",
    "np.in1d(b, a)\n"
   ]
  },
  {
   "cell_type": "markdown",
   "metadata": {},
   "source": [
    "# Intersect1d"
   ]
  },
  {
   "cell_type": "code",
   "execution_count": 33,
   "metadata": {},
   "outputs": [
    {
     "name": "stdout",
     "output_type": "stream",
     "text": [
      "[5 3 7 1 6 5 6 8 3 9 6 8 8 1 8 1 7 8 6 6]\n",
      "[4 6 7 9 2]\n"
     ]
    },
    {
     "data": {
      "text/plain": [
       "array([6, 7, 9])"
      ]
     },
     "execution_count": 33,
     "metadata": {},
     "output_type": "execute_result"
    }
   ],
   "source": [
    "print(a, b, sep='\\n') # Intersect1d sample gives the two same values.\n",
    "np.intersect1d(b, a)"
   ]
  },
  {
   "cell_type": "markdown",
   "metadata": {},
   "source": [
    "# Setdiff1d"
   ]
  },
  {
   "cell_type": "code",
   "execution_count": 37,
   "metadata": {},
   "outputs": [
    {
     "name": "stdout",
     "output_type": "stream",
     "text": [
      "[8 8 1 5 6 2 6 4 6 7 7 6 3 3 7 7 3 6 5 5]\n",
      "[3 1 8 3 9]\n"
     ]
    },
    {
     "data": {
      "text/plain": [
       "array([9])"
      ]
     },
     "execution_count": 37,
     "metadata": {},
     "output_type": "execute_result"
    }
   ],
   "source": [
    "a = np.random.randint(1, 10, size=20) # its give the value which one not in b from a.its mean difference values  in both elements\n",
    "b = np.random.randint(1, 10, size=5)  # its given the account which is not found,means that ID users is not avaible accounts.\n",
    "print(a,b, sep='\\n')\n",
    "np.setdiff1d(b, a)"
   ]
  },
  {
   "cell_type": "markdown",
   "metadata": {},
   "source": [
    "# XOR\n"
   ]
  },
  {
   "cell_type": "code",
   "execution_count": 39,
   "metadata": {},
   "outputs": [
    {
     "name": "stdout",
     "output_type": "stream",
     "text": [
      "[8 8 1 5 6 2 6 4 6 7 7 6 3 3 7 7 3 6 5 5]\n",
      "[3 1 8 3 9]\n"
     ]
    },
    {
     "data": {
      "text/plain": [
       "array([2, 4, 5, 6, 7, 9])"
      ]
     },
     "execution_count": 39,
     "metadata": {},
     "output_type": "execute_result"
    }
   ],
   "source": [
    "# 0 0 ->0 # in practical example which user ID LOGIN in two or three months (jan,feb)\n",
    "# 0 1 ->1\n",
    "# 1 0 ->1\n",
    "# 1 1 ->0\n",
    "print(a,b, sep='\\n')\n",
    "np.setxor1d(b,a)"
   ]
  },
  {
   "cell_type": "code",
   "execution_count": 4,
   "metadata": {},
   "outputs": [
    {
     "name": "stdout",
     "output_type": "stream",
     "text": [
      "[[[0 1]\n",
      "  [2 3]]\n",
      "\n",
      " [[4 5]\n",
      "  [6 7]]]\n"
     ]
    },
    {
     "data": {
      "text/plain": [
       "[array([[[0],\n",
       "         [2]],\n",
       " \n",
       "        [[4],\n",
       "         [6]]]),\n",
       " array([[[1],\n",
       "         [3]],\n",
       " \n",
       "        [[5],\n",
       "         [7]]])]"
      ]
     },
     "execution_count": 4,
     "metadata": {},
     "output_type": "execute_result"
    }
   ],
   "source": [
    "a = np.arange(2*2*2).reshape(2,2,2)\n",
    "print(a)\n",
    "np.dsplit(a,2)"
   ]
  },
  {
   "cell_type": "code",
   "execution_count": 7,
   "metadata": {},
   "outputs": [
    {
     "name": "stdout",
     "output_type": "stream",
     "text": [
      "[[[0 1]\n",
      "  [2 3]]\n",
      "\n",
      " [[4 5]\n",
      "  [6 7]]]\n"
     ]
    },
    {
     "data": {
      "text/plain": [
       "[array([[[0],\n",
       "         [2]],\n",
       " \n",
       "        [[4],\n",
       "         [6]]]),\n",
       " array([[[1],\n",
       "         [3]],\n",
       " \n",
       "        [[5],\n",
       "         [7]]])]"
      ]
     },
     "execution_count": 7,
     "metadata": {},
     "output_type": "execute_result"
    }
   ],
   "source": [
    "a = np.arange(2*2*2).reshape(2,2,2)\n",
    "print(a)\n",
    "np.split(a, 2, axis=2)"
   ]
  },
  {
   "cell_type": "code",
   "execution_count": null,
   "metadata": {},
   "outputs": [],
   "source": [
    "# axis 0 = works same like before sequence divide from top to bottom,for example first row separate second row separate and third row will be separate.\n",
    "# axis 1 = its breaks the coloums wise,if you want break  left to right then 1.\n",
    "# "
   ]
  },
  {
   "cell_type": "code",
   "execution_count": 13,
   "metadata": {},
   "outputs": [
    {
     "name": "stdout",
     "output_type": "stream",
     "text": [
      "[[[0 1]\n",
      "  [2 3]]\n",
      "\n",
      " [[4 5]\n",
      "  [6 7]]]\n"
     ]
    },
    {
     "data": {
      "text/plain": [
       "[array([[[0, 1],\n",
       "         [2, 3]],\n",
       " \n",
       "        [[4, 5],\n",
       "         [6, 7]]])]"
      ]
     },
     "execution_count": 13,
     "metadata": {},
     "output_type": "execute_result"
    }
   ],
   "source": [
    "a = np.arange(2*2*2).reshape(2,2,2)\n",
    "print(a)\n",
    "np.dsplit(a,1)"
   ]
  },
  {
   "cell_type": "code",
   "execution_count": null,
   "metadata": {},
   "outputs": [],
   "source": []
  },
  {
   "cell_type": "code",
   "execution_count": null,
   "metadata": {},
   "outputs": [],
   "source": []
  }
 ],
 "metadata": {
  "kernelspec": {
   "display_name": "Python 3",
   "language": "python",
   "name": "python3"
  },
  "language_info": {
   "codemirror_mode": {
    "name": "ipython",
    "version": 3
   },
   "file_extension": ".py",
   "mimetype": "text/x-python",
   "name": "python",
   "nbconvert_exporter": "python",
   "pygments_lexer": "ipython3",
   "version": "3.7.6"
  }
 },
 "nbformat": 4,
 "nbformat_minor": 4
}
