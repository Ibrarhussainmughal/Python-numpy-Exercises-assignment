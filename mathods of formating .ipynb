{
 "cells": [
  {
   "cell_type": "markdown",
   "metadata": {},
   "source": [
    "# string formating with curly brackets and f (fuction)"
   ]
  },
  {
   "cell_type": "code",
   "execution_count": 1,
   "metadata": {},
   "outputs": [
    {
     "name": "stdout",
     "output_type": "stream",
     "text": [
      "my id is 102540 and my department is Electrical\n"
     ]
    }
   ],
   "source": [
    "# before as it is print variable but when we need the change value then we can apply the f fuction and str(type casting)\n",
    "id = 102540\n",
    "department = \"Electrical\"\n",
    "print(\"my id is 102540 and my department is Electrical\")"
   ]
  },
  {
   "cell_type": "code",
   "execution_count": 2,
   "metadata": {},
   "outputs": [
    {
     "name": "stdout",
     "output_type": "stream",
     "text": [
      "my id is 102540 and my department is Electrical\n"
     ]
    }
   ],
   "source": [
    "print(f\"my id is {id} and my department is {department}\")"
   ]
  },
  {
   "cell_type": "code",
   "execution_count": 4,
   "metadata": {},
   "outputs": [
    {
     "name": "stdout",
     "output_type": "stream",
     "text": [
      " i am a student of 34 and my country is oversease\n"
     ]
    }
   ],
   "source": [
    "piaicbatch = 34\n",
    "country = \"oversease\"\n",
    "print(f\" i am a student of {piaicbatch} and my country is {country}\")"
   ]
  },
  {
   "cell_type": "markdown",
   "metadata": {},
   "source": [
    "# .farmating methods\n",
    "piaicbatch = 34\n",
    "country = \"oversease\""
   ]
  },
  {
   "cell_type": "code",
   "execution_count": 6,
   "metadata": {},
   "outputs": [
    {
     "data": {
      "text/plain": [
       "'i am a student of 34 and my country is oversease'"
      ]
     },
     "execution_count": 6,
     "metadata": {},
     "output_type": "execute_result"
    }
   ],
   "source": [
    "\"i am a student of {} and my country is {}\".format(piaicbatch, country)"
   ]
  },
  {
   "cell_type": "markdown",
   "metadata": {},
   "source": [
    "# cancantenate mathods of formating."
   ]
  },
  {
   "cell_type": "code",
   "execution_count": 28,
   "metadata": {},
   "outputs": [
    {
     "name": "stdout",
     "output_type": "stream",
     "text": [
      "my roll_number is 102and my class1 is oversease\n"
     ]
    }
   ],
   "source": [
    "roll_number = 102\n",
    "class1 = \"oversease\"\n",
    "print(\"my roll_number is \"+str(roll_number)+\"and my class1 is \"+class1)"
   ]
  }
 ],
 "metadata": {
  "kernelspec": {
   "display_name": "Python 3",
   "language": "python",
   "name": "python3"
  },
  "language_info": {
   "codemirror_mode": {
    "name": "ipython",
    "version": 3
   },
   "file_extension": ".py",
   "mimetype": "text/x-python",
   "name": "python",
   "nbconvert_exporter": "python",
   "pygments_lexer": "ipython3",
   "version": "3.7.6"
  }
 },
 "nbformat": 4,
 "nbformat_minor": 4
}
