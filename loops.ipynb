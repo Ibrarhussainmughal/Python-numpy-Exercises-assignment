{
 "cells": [
  {
   "cell_type": "code",
   "execution_count": null,
   "metadata": {},
   "outputs": [],
   "source": [
    "print(\"ibrar\")\n",
    "print(\"ibrar\")\n",
    "print(\"ibrar\")\n",
    "print(\"ibrar\")\n",
    "print(\"ibrar\")\n",
    "\n",
    "\n"
   ]
  },
  {
   "cell_type": "code",
   "execution_count": 2,
   "metadata": {},
   "outputs": [
    {
     "name": "stdout",
     "output_type": "stream",
     "text": [
      "0 ibrar\n",
      "1 ibrar\n",
      "2 ibrar\n",
      "3 ibrar\n",
      "4 ibrar\n"
     ]
    }
   ],
   "source": [
    "for a in range(5):\n",
    "    print(a,\"ibrar\")"
   ]
  },
  {
   "cell_type": "code",
   "execution_count": 3,
   "metadata": {},
   "outputs": [
    {
     "name": "stdout",
     "output_type": "stream",
     "text": [
      "0 ibrar\n",
      "1 ibrar\n",
      "2 ibrar\n",
      "3 ibrar\n",
      "4 ibrar\n"
     ]
    }
   ],
   "source": [
    "for b in range(5):\n",
    "    print(b,\"ibrar\")"
   ]
  },
  {
   "cell_type": "code",
   "execution_count": 12,
   "metadata": {},
   "outputs": [
    {
     "name": "stdout",
     "output_type": "stream",
     "text": [
      "0 mujy help chaye\n",
      "1 mujy help chaye\n",
      "2 mujy help chaye\n",
      "3 mujy help chaye\n",
      "4 mujy help chaye\n",
      "5 mujy help chaye\n",
      "6 mujy help chaye\n",
      "7 mujy help chaye\n",
      "8 mujy help chaye\n",
      "9 mujy help chaye\n"
     ]
    }
   ],
   "source": [
    "for layout in range(10):\n",
    "    print(layout, \"mujy help chaye\")"
   ]
  },
  {
   "cell_type": "code",
   "execution_count": 15,
   "metadata": {},
   "outputs": [
    {
     "name": "stdout",
     "output_type": "stream",
     "text": [
      "0 55\n",
      "1 55\n",
      "2 55\n",
      "3 55\n",
      "4 55\n"
     ]
    }
   ],
   "source": [
    "for bol in range(5):\n",
    "    print(bol,\"55\")"
   ]
  },
  {
   "cell_type": "code",
   "execution_count": 20,
   "metadata": {},
   "outputs": [
    {
     "name": "stdout",
     "output_type": "stream",
     "text": [
      "10\n",
      "7\n",
      "4\n"
     ]
    }
   ],
   "source": [
    "for number in range(10,1,-3):\n",
    "    print(number)"
   ]
  },
  {
   "cell_type": "code",
   "execution_count": 27,
   "metadata": {},
   "outputs": [
    {
     "name": "stdout",
     "output_type": "stream",
     "text": [
      "10\n",
      "8\n",
      "6\n",
      "4\n",
      "2\n"
     ]
    }
   ],
   "source": [
    "for number in range(10,1,-2):\n",
    "    print(number)"
   ]
  },
  {
   "cell_type": "code",
   "execution_count": 31,
   "metadata": {},
   "outputs": [],
   "source": [
    "cities = [\"khi\", \"multan\", \"quetta\"]\n"
   ]
  },
  {
   "cell_type": "code",
   "execution_count": 32,
   "metadata": {},
   "outputs": [
    {
     "name": "stdout",
     "output_type": "stream",
     "text": [
      "The city under consideration is khi\n",
      "The city under consideration is multan\n",
      "The city under consideration is quetta\n"
     ]
    }
   ],
   "source": [
    "for city in cities:\n",
    "    print(f\"The city under consideration is {city}\")"
   ]
  },
  {
   "cell_type": "code",
   "execution_count": 39,
   "metadata": {},
   "outputs": [],
   "source": [
    "schools = [\"Abbottabad\", \"Abha\", \"Riyadh\",  \"multan\"]"
   ]
  },
  {
   "cell_type": "code",
   "execution_count": 40,
   "metadata": {},
   "outputs": [
    {
     "name": "stdout",
     "output_type": "stream",
     "text": [
      "the school under consideration is Abbottabad\n",
      "the school under consideration is Abha\n",
      "the school under consideration is Riyadh\n",
      "the school under consideration is multan\n"
     ]
    }
   ],
   "source": [
    "for school in schools:\n",
    "    print(f\"the school under consideration is {school}\")"
   ]
  },
  {
   "cell_type": "code",
   "execution_count": 41,
   "metadata": {},
   "outputs": [
    {
     "name": "stdout",
     "output_type": "stream",
     "text": [
      "11\n",
      "22\n",
      "33\n",
      "44\n"
     ]
    }
   ],
   "source": [
    "for num in [11, 22, 33, 44]:\n",
    "    print(num)"
   ]
  },
  {
   "cell_type": "code",
   "execution_count": 42,
   "metadata": {},
   "outputs": [
    {
     "name": "stdout",
     "output_type": "stream",
     "text": [
      "p\n",
      "a\n",
      "k\n",
      "i\n",
      "s\n",
      "t\n",
      "a\n",
      "n\n"
     ]
    }
   ],
   "source": [
    "country = \"pakistan\"\n",
    "for char in country:\n",
    "    print(char)"
   ]
  },
  {
   "cell_type": "code",
   "execution_count": 46,
   "metadata": {},
   "outputs": [
    {
     "name": "stdout",
     "output_type": "stream",
     "text": [
      "saudiarab\n",
      "pakistan\n"
     ]
    }
   ],
   "source": [
    "country = \"saudiarab\",\"pakistan\"\n",
    "for char in country:\n",
    "    print(char)"
   ]
  },
  {
   "cell_type": "code",
   "execution_count": 56,
   "metadata": {},
   "outputs": [
    {
     "name": "stdout",
     "output_type": "stream",
     "text": [
      "5\n",
      "7\n",
      "11\n"
     ]
    }
   ],
   "source": [
    "for number in [5,7,11,90]:\n",
    "    if number%2==0:\n",
    "        break\n",
    "    print(number)"
   ]
  },
  {
   "cell_type": "code",
   "execution_count": 60,
   "metadata": {},
   "outputs": [],
   "source": [
    "for num in range(10):\n",
    "    if num==7:\n",
    "        continue\n",
    "        print(num)\n"
   ]
  },
  {
   "cell_type": "code",
   "execution_count": null,
   "metadata": {},
   "outputs": [],
   "source": []
  }
 ],
 "metadata": {
  "kernelspec": {
   "display_name": "Python 3",
   "language": "python",
   "name": "python3"
  },
  "language_info": {
   "codemirror_mode": {
    "name": "ipython",
    "version": 3
   },
   "file_extension": ".py",
   "mimetype": "text/x-python",
   "name": "python",
   "nbconvert_exporter": "python",
   "pygments_lexer": "ipython3",
   "version": "3.7.6"
  }
 },
 "nbformat": 4,
 "nbformat_minor": 4
}
