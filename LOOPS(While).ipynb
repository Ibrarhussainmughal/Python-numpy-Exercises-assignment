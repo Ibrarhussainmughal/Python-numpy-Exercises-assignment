{
 "cells": [
  {
   "cell_type": "markdown",
   "metadata": {},
   "source": [
    "# While loops"
   ]
  },
  {
   "cell_type": "code",
   "execution_count": 3,
   "metadata": {},
   "outputs": [
    {
     "name": "stdout",
     "output_type": "stream",
     "text": [
      "0 This is while loop printing\n",
      "1 This is while loop printing\n",
      "2 This is while loop printing\n",
      "3 This is while loop printing\n",
      "4 This is while loop printing\n",
      "5 This is while loop printing\n",
      "6 This is while loop printing\n",
      "7 This is while loop printing\n",
      "8 This is while loop printing\n",
      "9 This is while loop printing\n"
     ]
    }
   ],
   "source": [
    "a = 0\n",
    "while a<10:\n",
    "    print(a,\"This is while loop printing\")\n",
    "    a+=1"
   ]
  },
  {
   "cell_type": "code",
   "execution_count": 4,
   "metadata": {},
   "outputs": [
    {
     "name": "stdout",
     "output_type": "stream",
     "text": [
      "0 This is the while loop printing\n",
      "1 This is the while loop printing\n",
      "2 This is the while loop printing\n",
      "3 This is the while loop printing\n",
      "4 This is the while loop printing\n",
      "5 This is the while loop printing\n",
      "6 This is the while loop printing\n",
      "7 This is the while loop printing\n",
      "8 This is the while loop printing\n",
      "9 This is the while loop printing\n",
      "10 This is the while loop printing\n"
     ]
    }
   ],
   "source": [
    "a = 0\n",
    "while a<=10:\n",
    "    print(a,\"This is the while loop printing\")\n",
    "    a+=1"
   ]
  },
  {
   "cell_type": "code",
   "execution_count": 5,
   "metadata": {},
   "outputs": [
    {
     "name": "stdout",
     "output_type": "stream",
     "text": [
      "Enter your favourite foodsbaryani\n",
      "Enter your favourite foodstikka karhai\n",
      "Enter your favourite foodskabab\n",
      "Enter your favourite foods\n",
      "Enter your favourite foods\n",
      "Enter your favourite foods\n",
      "Enter your favourite foods\n",
      "Enter your favourite foods\n",
      "Enter your favourite foods\n",
      "Enter your favourite foods\n"
     ]
    }
   ],
   "source": [
    "a = 0\n",
    "while a<10:\n",
    "    userinput = input(\"Enter your favourite foods\")\n",
    "    a+=1\n",
    "    "
   ]
  },
  {
   "cell_type": "markdown",
   "metadata": {},
   "source": [
    "# setting a flag"
   ]
  },
  {
   "cell_type": "code",
   "execution_count": 6,
   "metadata": {},
   "outputs": [
    {
     "name": "stdout",
     "output_type": "stream",
     "text": [
      "Enter your favourite foodskarahi\n",
      "Enter your favourite foodsbaryani\n",
      "Enter your favourite foodstikaa\n",
      "Enter your favourite foods\n",
      "Enter your favourite foodsQ\n"
     ]
    },
    {
     "data": {
      "text/plain": [
       "['karahi', 'baryani', 'tikaa', '']"
      ]
     },
     "execution_count": 6,
     "metadata": {},
     "output_type": "execute_result"
    }
   ],
   "source": [
    "flag = True\n",
    "favfoods = []\n",
    "while flag:\n",
    "    userinput = input(\"Enter your favourite foods\")\n",
    "    if userinput==\"Q\":\n",
    "        flag = False\n",
    "    else:\n",
    "        favfoods.append(userinput)\n",
    "favfoods"
   ]
  },
  {
   "cell_type": "code",
   "execution_count": null,
   "metadata": {},
   "outputs": [],
   "source": []
  }
 ],
 "metadata": {
  "kernelspec": {
   "display_name": "Python 3",
   "language": "python",
   "name": "python3"
  },
  "language_info": {
   "codemirror_mode": {
    "name": "ipython",
    "version": 3
   },
   "file_extension": ".py",
   "mimetype": "text/x-python",
   "name": "python",
   "nbconvert_exporter": "python",
   "pygments_lexer": "ipython3",
   "version": "3.7.6"
  }
 },
 "nbformat": 4,
 "nbformat_minor": 4
}
