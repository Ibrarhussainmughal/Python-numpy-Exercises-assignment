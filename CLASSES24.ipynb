{
 "cells": [
  {
   "cell_type": "markdown",
   "metadata": {},
   "source": [
    "# CLASSES"
   ]
  },
  {
   "cell_type": "code",
   "execution_count": 311,
   "metadata": {},
   "outputs": [],
   "source": [
    "class Employees():\n",
    "    def __init__(self, Name, ID, Country, Department, JoiningDates, Grade, Disingnation):\n",
    "        self.Name = Name\n",
    "        self.Country = Country\n",
    "        self.Department = Department\n",
    "        self.JoiningDates = JoiningDates\n",
    "        self.Grade = Grade\n",
    "        self.Disingnation = Disingnation\n",
    "        self.ID = ID\n",
    "        self.company = \"AL-nahdi\" # default attribute\n",
    "    def detailEmployees(self):\n",
    "        print(f\"The Name of Employee is {self.Name}\")\n",
    "        print(f\"The ID of Employee is {self.ID}\")\n",
    "        print(f\"The Country of Employee is {self.Country}\")\n",
    "        print(f\"The Department of Employee is {self.Department}\")\n",
    "        print(f\"The Joining Dates of Employee is {self.JoiningDates}\")\n",
    "        print(f\"The Grade of Employee is {self.Grade}\")\n",
    "        print(f\"The Disingnation of Employee is {self.Disingnation}\")\n",
    "    def picking(self):\n",
    "        print(f\"{self.Grade} is working in Milk Area\")\n",
    "    def receiving(self):\n",
    "        print(f\"{self.Name} is receiving the item in receiving Area\")\n",
    "    def shipping(self):\n",
    "        print(f\"{self.Country} is shipping the item in shipping Area\")\n",
    "        \n",
    "    def company(self):\n",
    "        print(f\"The company of all Employees is {self.company}\")\n",
    "        \n",
    "    def setcompanyName(self, newName):\n",
    "        self.company = newName\n",
    "    def getcompanyName(self):\n",
    "        print(f\"The name of company is {self.company}\")"
   ]
  },
  {
   "cell_type": "code",
   "execution_count": 312,
   "metadata": {},
   "outputs": [],
   "source": [
    "# how to creat the objects of class"
   ]
  },
  {
   "cell_type": "code",
   "execution_count": 313,
   "metadata": {},
   "outputs": [],
   "source": [
    "employee1 = Employees(\"Talha\",102330,\"India\",\"Diapers\", \"1.1.2016\", \"A\", \"Team Leader\")"
   ]
  },
  {
   "cell_type": "code",
   "execution_count": 314,
   "metadata": {},
   "outputs": [],
   "source": [
    "employee2 = Employees(\"Noor\", 102600, \"Bangladesh\", \"Diapers\", \"2.2.2019\", \"B\", \"Junier Leader\")"
   ]
  },
  {
   "cell_type": "code",
   "execution_count": 315,
   "metadata": {},
   "outputs": [],
   "source": [
    "employee3 = Employees(\"Aashique\", 102602, \"India\", \"Diapers\", \"2.2.2018\", \"B\", \"Junier Leader\")"
   ]
  },
  {
   "cell_type": "code",
   "execution_count": 316,
   "metadata": {},
   "outputs": [],
   "source": [
    "employee4 = Employees(\"Javeed\", 102622, \"India\", \"Diapers\", \"2.2.2017\", \"B\", \"Junier Leader\")"
   ]
  },
  {
   "cell_type": "code",
   "execution_count": 317,
   "metadata": {},
   "outputs": [
    {
     "data": {
      "text/plain": [
       "'Talha'"
      ]
     },
     "execution_count": 317,
     "metadata": {},
     "output_type": "execute_result"
    }
   ],
   "source": [
    "employee1.Name"
   ]
  },
  {
   "cell_type": "code",
   "execution_count": 318,
   "metadata": {},
   "outputs": [
    {
     "data": {
      "text/plain": [
       "'Noor'"
      ]
     },
     "execution_count": 318,
     "metadata": {},
     "output_type": "execute_result"
    }
   ],
   "source": [
    "employee2.Name"
   ]
  },
  {
   "cell_type": "code",
   "execution_count": 319,
   "metadata": {},
   "outputs": [
    {
     "data": {
      "text/plain": [
       "'Aashique'"
      ]
     },
     "execution_count": 319,
     "metadata": {},
     "output_type": "execute_result"
    }
   ],
   "source": [
    "employee3.Name"
   ]
  },
  {
   "cell_type": "code",
   "execution_count": 320,
   "metadata": {},
   "outputs": [
    {
     "data": {
      "text/plain": [
       "'India'"
      ]
     },
     "execution_count": 320,
     "metadata": {},
     "output_type": "execute_result"
    }
   ],
   "source": [
    "employee1.Country"
   ]
  },
  {
   "cell_type": "code",
   "execution_count": 321,
   "metadata": {},
   "outputs": [
    {
     "data": {
      "text/plain": [
       "'A'"
      ]
     },
     "execution_count": 321,
     "metadata": {},
     "output_type": "execute_result"
    }
   ],
   "source": [
    "employee1.Grade"
   ]
  },
  {
   "cell_type": "code",
   "execution_count": 322,
   "metadata": {},
   "outputs": [
    {
     "data": {
      "text/plain": [
       "102622"
      ]
     },
     "execution_count": 322,
     "metadata": {},
     "output_type": "execute_result"
    }
   ],
   "source": [
    "employee4.ID"
   ]
  },
  {
   "cell_type": "code",
   "execution_count": 323,
   "metadata": {},
   "outputs": [
    {
     "name": "stdout",
     "output_type": "stream",
     "text": [
      "The Name of Employee is Talha\n",
      "The ID of Employee is 102330\n",
      "The Country of Employee is India\n",
      "The Department of Employee is Diapers\n",
      "The Joining Dates of Employee is 1.1.2016\n",
      "The Grade of Employee is A\n",
      "The Disingnation of Employee is Team Leader\n"
     ]
    }
   ],
   "source": [
    "employee1.detailEmployees()"
   ]
  },
  {
   "cell_type": "markdown",
   "metadata": {},
   "source": [
    "# Changing an attributes value"
   ]
  },
  {
   "cell_type": "code",
   "execution_count": 324,
   "metadata": {},
   "outputs": [],
   "source": [
    "# 1) Direct hit the attribute\n",
    "# 2) Via function (get set)"
   ]
  },
  {
   "cell_type": "code",
   "execution_count": 325,
   "metadata": {},
   "outputs": [
    {
     "data": {
      "text/plain": [
       "'Talha'"
      ]
     },
     "execution_count": 325,
     "metadata": {},
     "output_type": "execute_result"
    }
   ],
   "source": [
    "employee1.Name"
   ]
  },
  {
   "cell_type": "code",
   "execution_count": 326,
   "metadata": {},
   "outputs": [],
   "source": [
    "employee1.Name = \" Talha Answari\""
   ]
  },
  {
   "cell_type": "code",
   "execution_count": 327,
   "metadata": {},
   "outputs": [
    {
     "data": {
      "text/plain": [
       "' Talha Answari'"
      ]
     },
     "execution_count": 327,
     "metadata": {},
     "output_type": "execute_result"
    }
   ],
   "source": [
    "employee1.Name"
   ]
  },
  {
   "cell_type": "code",
   "execution_count": 328,
   "metadata": {},
   "outputs": [],
   "source": [
    "employee2.Name = \"Noor afsar\""
   ]
  },
  {
   "cell_type": "code",
   "execution_count": 329,
   "metadata": {},
   "outputs": [
    {
     "data": {
      "text/plain": [
       "'Noor afsar'"
      ]
     },
     "execution_count": 329,
     "metadata": {},
     "output_type": "execute_result"
    }
   ],
   "source": [
    "employee2.Name"
   ]
  },
  {
   "cell_type": "code",
   "execution_count": 330,
   "metadata": {},
   "outputs": [
    {
     "data": {
      "text/plain": [
       "'AL-nahdi'"
      ]
     },
     "execution_count": 330,
     "metadata": {},
     "output_type": "execute_result"
    }
   ],
   "source": [
    "employee1.company"
   ]
  },
  {
   "cell_type": "code",
   "execution_count": 333,
   "metadata": {},
   "outputs": [],
   "source": [
    "employee1.company = \"AL-nahdi.ksa\""
   ]
  },
  {
   "cell_type": "code",
   "execution_count": 334,
   "metadata": {},
   "outputs": [
    {
     "data": {
      "text/plain": [
       "'AL-nahdi.ksa'"
      ]
     },
     "execution_count": 334,
     "metadata": {},
     "output_type": "execute_result"
    }
   ],
   "source": [
    "employee1.company"
   ]
  },
  {
   "cell_type": "markdown",
   "metadata": {},
   "source": [
    "# changing attributes values via functions"
   ]
  },
  {
   "cell_type": "code",
   "execution_count": 335,
   "metadata": {},
   "outputs": [
    {
     "name": "stdout",
     "output_type": "stream",
     "text": [
      "The name of company is AL-nahdi.ksa\n"
     ]
    }
   ],
   "source": [
    "employee1.getcompanyName()"
   ]
  },
  {
   "cell_type": "code",
   "execution_count": 336,
   "metadata": {},
   "outputs": [
    {
     "name": "stdout",
     "output_type": "stream",
     "text": [
      "The name of company is AL-nahdi\n"
     ]
    }
   ],
   "source": [
    "employee2.getcompanyName()"
   ]
  },
  {
   "cell_type": "code",
   "execution_count": 338,
   "metadata": {},
   "outputs": [],
   "source": [
    "employee2.setcompanyName(\"AL-nahdi.ksa.Abhaa\")"
   ]
  },
  {
   "cell_type": "code",
   "execution_count": 339,
   "metadata": {},
   "outputs": [
    {
     "name": "stdout",
     "output_type": "stream",
     "text": [
      "The name of company is AL-nahdi.ksa.Abhaa\n"
     ]
    }
   ],
   "source": [
    "employee2.getcompanyName()"
   ]
  }
 ],
 "metadata": {
  "kernelspec": {
   "display_name": "Python 3",
   "language": "python",
   "name": "python3"
  },
  "language_info": {
   "codemirror_mode": {
    "name": "ipython",
    "version": 3
   },
   "file_extension": ".py",
   "mimetype": "text/x-python",
   "name": "python",
   "nbconvert_exporter": "python",
   "pygments_lexer": "ipython3",
   "version": "3.7.6"
  }
 },
 "nbformat": 4,
 "nbformat_minor": 4
}
