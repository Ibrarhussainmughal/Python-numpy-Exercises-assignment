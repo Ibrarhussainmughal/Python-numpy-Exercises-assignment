{
 "cells": [
  {
   "cell_type": "markdown",
   "metadata": {},
   "source": [
    "# FUNCTION:Dealing with an unknown number of arguments"
   ]
  },
  {
   "cell_type": "code",
   "execution_count": 8,
   "metadata": {},
   "outputs": [],
   "source": [
    "def pizzaOrder(size, flavour, toppings):\n",
    "    print(f\"your order for pizza of size{size}, and flavour {flavour} and toppings {toppings} is ready\")"
   ]
  },
  {
   "cell_type": "code",
   "execution_count": 9,
   "metadata": {},
   "outputs": [
    {
     "name": "stdout",
     "output_type": "stream",
     "text": [
      "your order for pizza of size12, and flavour chickenTikka and toppings OLIVES is ready\n"
     ]
    }
   ],
   "source": [
    "pizzaOrder(12, \"chickenTikka\", \"OLIVES\")"
   ]
  },
  {
   "cell_type": "code",
   "execution_count": 18,
   "metadata": {},
   "outputs": [],
   "source": [
    "# deal with arbitarary arguments, its mean * mark(one more values pass in one parameter for example (*brand)) its must be in last,its not given the eror\n",
    "def forkliftplugorder(size, quantity,*brand):\n",
    "    print(f\"plz make the quatation size{size}, and quantity{quantity}, and brand{brand} to Mr.mojahid\")"
   ]
  },
  {
   "cell_type": "code",
   "execution_count": 21,
   "metadata": {},
   "outputs": [
    {
     "name": "stdout",
     "output_type": "stream",
     "text": [
      "plz make the quatation size12, and quantity5, and brand('Toyota', 'japan') to Mr.mojahid\n"
     ]
    }
   ],
   "source": [
    "forkliftplugorder(12, 5, \"Toyota\", \"japan\") # values result is tupple base,  "
   ]
  },
  {
   "cell_type": "markdown",
   "metadata": {},
   "source": [
    "# FUNCTION:passing information back from them( return fuction)"
   ]
  },
  {
   "cell_type": "code",
   "execution_count": 36,
   "metadata": {},
   "outputs": [],
   "source": [
    "def add(val1, val2):\n",
    "    ans = val1 + val2\n",
    "    return ans, \"Hello Function\""
   ]
  },
  {
   "cell_type": "code",
   "execution_count": 37,
   "metadata": {},
   "outputs": [
    {
     "data": {
      "text/plain": [
       "(6, 'Hello Function')"
      ]
     },
     "execution_count": 37,
     "metadata": {},
     "output_type": "execute_result"
    }
   ],
   "source": [
    " result = add(2,4)\n",
    " result "
   ]
  },
  {
   "cell_type": "markdown",
   "metadata": {},
   "source": [
    "# using function as variables"
   ]
  },
  {
   "cell_type": "code",
   "execution_count": 5,
   "metadata": {},
   "outputs": [],
   "source": [
    "def add(a,b):\n",
    "    return a+b\n",
    "def sub(b,a):\n",
    "    return a-b\n",
    "result = add(2,3)+ sub(2,3)"
   ]
  },
  {
   "cell_type": "code",
   "execution_count": 6,
   "metadata": {},
   "outputs": [
    {
     "data": {
      "text/plain": [
       "6"
      ]
     },
     "execution_count": 6,
     "metadata": {},
     "output_type": "execute_result"
    }
   ],
   "source": [
    "result"
   ]
  },
  {
   "cell_type": "code",
   "execution_count": 9,
   "metadata": {},
   "outputs": [],
   "source": [
    "def multiply(a,b):\n",
    "    return a*b\n",
    "def sub(b,c):\n",
    "    return c-b\n",
    "result = add(3,4)+ sub(4,2)"
   ]
  },
  {
   "cell_type": "code",
   "execution_count": 10,
   "metadata": {},
   "outputs": [
    {
     "data": {
      "text/plain": [
       "10"
      ]
     },
     "execution_count": 10,
     "metadata": {},
     "output_type": "execute_result"
    }
   ],
   "source": [
    "result"
   ]
  },
  {
   "cell_type": "markdown",
   "metadata": {},
   "source": [
    "# Functions:Local and global varaibles\n",
    "    "
   ]
  },
  {
   "cell_type": "code",
   "execution_count": 24,
   "metadata": {},
   "outputs": [],
   "source": [
    "#Local variable\n",
    "\n",
    "def behappy(): # local variable only excuted inside function definition not will be excuted in function outside \n",
    "    name = \"mr.A\" #  name is local variable \n",
    "    print(f\"{name} is very happy today\")\n"
   ]
  },
  {
   "cell_type": "code",
   "execution_count": 27,
   "metadata": {},
   "outputs": [
    {
     "name": "stdout",
     "output_type": "stream",
     "text": [
      "mr.A is very happy today\n"
     ]
    }
   ],
   "source": [
    "behappy()"
   ]
  },
  {
   "cell_type": "code",
   "execution_count": 28,
   "metadata": {},
   "outputs": [
    {
     "ename": "NameError",
     "evalue": "name 'name' is not defined",
     "output_type": "error",
     "traceback": [
      "\u001b[1;31m---------------------------------------------------------------------------\u001b[0m",
      "\u001b[1;31mNameError\u001b[0m                                 Traceback (most recent call last)",
      "\u001b[1;32m<ipython-input-28-125a648db3f9>\u001b[0m in \u001b[0;36m<module>\u001b[1;34m\u001b[0m\n\u001b[0;32m      1\u001b[0m \u001b[1;31m# if we try to print of name variable it will not be excuted. for example\u001b[0m\u001b[1;33m\u001b[0m\u001b[1;33m\u001b[0m\u001b[1;33m\u001b[0m\u001b[0m\n\u001b[1;32m----> 2\u001b[1;33m \u001b[0mprint\u001b[0m\u001b[1;33m(\u001b[0m\u001b[0mname\u001b[0m\u001b[1;33m)\u001b[0m\u001b[1;33m\u001b[0m\u001b[1;33m\u001b[0m\u001b[0m\n\u001b[0m",
      "\u001b[1;31mNameError\u001b[0m: name 'name' is not defined"
     ]
    }
   ],
   "source": [
    "# if we try to print of name variable it will not be excuted. for example\n",
    "print(name)"
   ]
  },
  {
   "cell_type": "code",
   "execution_count": 29,
   "metadata": {},
   "outputs": [],
   "source": [
    "#Global variable\n",
    "anotherName = \"Mr.B\"\n",
    "\n",
    "def sad():\n",
    "    print(f\"{anotherName} is very sad today\")"
   ]
  },
  {
   "cell_type": "code",
   "execution_count": 30,
   "metadata": {},
   "outputs": [
    {
     "name": "stdout",
     "output_type": "stream",
     "text": [
      "Mr.B is very sad today\n"
     ]
    }
   ],
   "source": [
    "sad()"
   ]
  },
  {
   "cell_type": "code",
   "execution_count": 31,
   "metadata": {},
   "outputs": [
    {
     "name": "stdout",
     "output_type": "stream",
     "text": [
      "Mr.B\n"
     ]
    }
   ],
   "source": [
    "# now we try to print outside from function\n",
    "print(anotherName)\n"
   ]
  },
  {
   "cell_type": "markdown",
   "metadata": {},
   "source": [
    "# Function within a functions"
   ]
  },
  {
   "cell_type": "code",
   "execution_count": 34,
   "metadata": {},
   "outputs": [],
   "source": [
    "def commissionCalc(sales):\n",
    "    if sales>100:\n",
    "        return sales*100\n",
    "    elif sales >50:\n",
    "        return sales*50\n",
    "    elif sales >20:\n",
    "        return sales*20\n",
    "    else:\n",
    "        return 0\n",
    "    \n",
    "\n",
    "def salaryCalc(basic,sales):\n",
    "    grossSalary = basic + commissionCalc(sales)\n",
    "    print(f\" your gross salary is {grossSalary}\")"
   ]
  },
  {
   "cell_type": "code",
   "execution_count": 36,
   "metadata": {},
   "outputs": [
    {
     "name": "stdout",
     "output_type": "stream",
     "text": [
      " your gross salary is 65000\n"
     ]
    }
   ],
   "source": [
    "salaryCalc(50000,150)"
   ]
  }
 ],
 "metadata": {
  "kernelspec": {
   "display_name": "Python 3",
   "language": "python",
   "name": "python3"
  },
  "language_info": {
   "codemirror_mode": {
    "name": "ipython",
    "version": 3
   },
   "file_extension": ".py",
   "mimetype": "text/x-python",
   "name": "python",
   "nbconvert_exporter": "python",
   "pygments_lexer": "ipython3",
   "version": "3.7.6"
  }
 },
 "nbformat": 4,
 "nbformat_minor": 4
}
